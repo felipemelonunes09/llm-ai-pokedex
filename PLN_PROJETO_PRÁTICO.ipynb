{
  "nbformat": 4,
  "nbformat_minor": 0,
  "metadata": {
    "colab": {
      "provenance": [],
      "include_colab_link": true
    },
    "kernelspec": {
      "name": "python3",
      "display_name": "Python 3"
    }
  },
  "cells": [
    {
      "cell_type": "markdown",
      "metadata": {
        "id": "view-in-github",
        "colab_type": "text"
      },
      "source": [
        "<a href=\"https://colab.research.google.com/github/felipemelonunes09/llm-ai-pokedex/blob/main/PLN_PROJETO_PR%C3%81TICO.ipynb\" target=\"_parent\"><img src=\"https://colab.research.google.com/assets/colab-badge.svg\" alt=\"Open In Colab\"/></a>"
      ]
    },
    {
      "cell_type": "markdown",
      "metadata": {
        "id": "Y6QILOdpOjwv"
      },
      "source": [
        "# **Processamento de Linguagem Natural [2024-Q2]**\n",
        "Prof. Alexandre Donizeti Alves"
      ]
    },
    {
      "cell_type": "markdown",
      "metadata": {
        "id": "8m67OOx9MX_3"
      },
      "source": [
        "### **PROJETO PRÁTICO** [LangChain + Grandes Modelos de Linguagem + API]\n"
      ]
    },
    {
      "cell_type": "markdown",
      "metadata": {
        "id": "5Gk0nHKabBT-"
      },
      "source": [
        "O **PROJETO PRÁTICO** deve ser feitO utilizando o **Google Colab** com uma conta sua vinculada ao Gmail. O link do seu notebook, armazenado no Google Drive, o link de um repositório no GitHub e o link de um vídeo do projeto em execução detalhando os principais resultados da atividade, devem ser enviados usando o seguinte formulário:\n",
        "\n",
        "> https://forms.gle/D4gLqP1iGgyn2hbH8\n",
        "\n",
        "\n",
        "**IMPORTANTE**: A submissão deve ser feita até o dia **08/09 (domingo)** APENAS POR UM INTEGRANTE DA EQUIPE, até às 23h59. Por favor, lembre-se de dar permissão de ACESSO IRRESTRITO para o professor da disciplina de PLN."
      ]
    },
    {
      "cell_type": "markdown",
      "metadata": {
        "id": "D7hJlilKM485"
      },
      "source": [
        "### **EQUIPE**\n",
        "\n",
        "---"
      ]
    },
    {
      "cell_type": "markdown",
      "source": [
        "**POR FAVOR, PREENCHER OS INTEGRANDES DA SUA EQUIPE:**\n",
        "\n",
        "\n",
        "**Integrante 01:**\n",
        "\n",
        "`Por favor, informe o seu nome completo e RA:`\n",
        "Felipe Nunes Melo - 11202130262\n",
        "\n",
        "**Integrante 02:**\n",
        "\n",
        "`Por favor, informe o seu nome completo e RA:`\n",
        "Leandro Zangirolami Trovões - 11201720912\n",
        "\n",
        "**Integrante 03:**\n",
        "\n",
        "`Por favor, informe o seu nome completo e RA:`\n",
        "Lucas Chaves Batista - 11201921079"
      ],
      "metadata": {
        "id": "tnIArN0QY-Ek"
      }
    },
    {
      "cell_type": "markdown",
      "source": [
        "### **GRANDE MODELO DE LINGUAGEM (*Large Language Model - LLM*)**\n",
        "\n",
        "---"
      ],
      "metadata": {
        "id": "VbYD2mw8y4CN"
      }
    },
    {
      "cell_type": "markdown",
      "source": [
        "Cada equipe deve selecionar um Grande Modelo de Linguagem (*Large Language Model - LMM*). Cada modelo pode ser escolhido por até 5 equipes.\n",
        "\n"
      ],
      "metadata": {
        "id": "_UlblxFxzDV-"
      }
    },
    {
      "cell_type": "markdown",
      "source": [
        "Por favor, informe os dados do LLM selecionada:\n",
        "\n",
        ">\n",
        "\n",
        "\n",
        "**LLM**:\n",
        "\n",
        ">\n",
        "\n",
        "**Link para a documentação oficial**:\n",
        "\n"
      ],
      "metadata": {
        "id": "a6AkE6iW0c3o"
      }
    },
    {
      "cell_type": "markdown",
      "source": [
        "### **API**\n",
        "---"
      ],
      "metadata": {
        "id": "6yExhaebs-nD"
      }
    },
    {
      "cell_type": "markdown",
      "source": [
        "Por favor, informe os dados da API selecionada:\n",
        "\n",
        "**API**:\n",
        "\n",
        "**Site oficial**:\n",
        "\n",
        "**Link para a documentação oficial**:\n",
        "\n",
        "\n",
        "\n",
        "\n"
      ],
      "metadata": {
        "id": "DjJM_qhEZRy6"
      }
    },
    {
      "cell_type": "markdown",
      "source": [
        "**IMPORTANTE**: cada **API** pode ser usada por até 4 equipes."
      ],
      "metadata": {
        "id": "bTODq98Myt_u"
      }
    },
    {
      "cell_type": "markdown",
      "metadata": {
        "id": "EtjgWQRzNphL"
      },
      "source": [
        "### **DESCRIÇÃO**\n",
        "---"
      ]
    },
    {
      "cell_type": "markdown",
      "source": [
        "Implementar um `notebook` no `Google Colab` que faça uso do framework **`LangChain`** (obrigatório) e de um **LLM** aplicando, no mínimo, DUAS técnicas de PLN. As técnicas podem ser aplicada em qualquer córpus obtido a partir de uma **API** ou a partir de uma página Web.\n",
        "\n",
        "O **LLM** e a **API** selecionados devem ser informados na seguinte planilha:\n",
        "\n",
        "> https://docs.google.com/spreadsheets/d/1iIUZcwnywO7RuF6VEJ8Rx9NDT1cwteyvsnkhYr0NWtU/edit?usp=sharing\n",
        "\n",
        ">\n",
        "As seguintes técnicas de PLN podem ser usadas:\n",
        "\n",
        "*   Correção Gramatical\n",
        "*   Classificação de Textos\n",
        "*   Análise de Sentimentos\n",
        "*   Detecção de Emoções\n",
        "*   Extração de Palavras-chave\n",
        "*   Tradução de Textos\n",
        "*   Sumarização de Textos\n",
        "*   Similaridade de Textos\n",
        "*   Reconhecimento de Entidades Nomeadas\n",
        "*   Sistemas de Perguntas e Respostas\n",
        ">\n",
        "\n",
        "**IMPORTANTE:** É obrigatório usar o e-mail da UFABC.\n"
      ],
      "metadata": {
        "id": "fXTwkiiGs2BV"
      }
    },
    {
      "cell_type": "markdown",
      "source": [
        "### **CRITÉRIOS DE AVALIAÇÃO**\n",
        "---\n"
      ],
      "metadata": {
        "id": "gWsBYQNtxmum"
      }
    },
    {
      "cell_type": "markdown",
      "source": [
        "Serão considerados como critérios de avaliação os seguintes pontos:\n",
        "\n",
        "* Uso do framework **`LangChain`**.\n",
        "\n",
        "* Escolha e uso de um **LLM**.\n",
        "\n",
        "* Escolha e uso de uma **API**.\n",
        "\n",
        "* Vídeo (5 a 10 minutos).\n",
        "\n",
        "* Criatividade no uso do framework **`LangChain`** em conjunto com o **LLM** e a **API**.\n",
        "\n",
        "\n"
      ],
      "metadata": {
        "id": "5iHdx4BXYruQ"
      }
    },
    {
      "cell_type": "markdown",
      "source": [
        "**IMPORTANTE**: todo o código do notebook deve ser executado. Código sem execução não será considerado."
      ],
      "metadata": {
        "id": "LhwdrMp123Xx"
      }
    },
    {
      "cell_type": "markdown",
      "source": [
        "### **IMPLEMENTAÇÃO**\n",
        "---"
      ],
      "metadata": {
        "id": "nw09lujGvfjc"
      }
    },
    {
      "cell_type": "markdown",
      "source": [
        "Este trecho de código define uma classe para interagir com a PokéAPI, permitindo obter uma lista de Pokémon ou buscar um Pokémon específico por nome. Isso é feito para integrar a PokéAPI na aplicação, facilitando o acesso aos dados de Pokémon, que serão usados na criação da Pokédex."
      ],
      "metadata": {
        "id": "r3KmNoNToqW1"
      }
    },
    {
      "cell_type": "code",
      "source": [
        "import requests\n",
        "\n",
        "class PokeApi():\n",
        "\n",
        "    URL         = \"https://pokeapi.co/api/v2\"\n",
        "    POKEMON_URL = f\"{URL}/pokemon\"\n",
        "\n",
        "    @staticmethod\n",
        "    def get_pokemons():\n",
        "        req = requests.get(f\"{PokeApi.POKEMON_URL}?limit=100000&offset=0\")\n",
        "        if req.status_code == 200:\n",
        "            return req.json()\n",
        "\n",
        "    @staticmethod\n",
        "    def get_by_name(name: str):\n",
        "        req = requests.get(f\"{PokeApi.POKEMON_URL}/{name}\")\n",
        "        if req.status_code == 200:\n",
        "            return req.json()\n",
        "\n"
      ],
      "metadata": {
        "id": "RyUailD5vi9E"
      },
      "execution_count": 1,
      "outputs": []
    },
    {
      "cell_type": "code",
      "source": [
        "pip install langchain"
      ],
      "metadata": {
        "colab": {
          "base_uri": "https://localhost:8080/"
        },
        "id": "kJQboVTko70K",
        "outputId": "90b9d5b7-d00d-4710-af5c-4a6e82eb6f2a"
      },
      "execution_count": 3,
      "outputs": [
        {
          "output_type": "stream",
          "name": "stdout",
          "text": [
            "Collecting langchain\n",
            "  Downloading langchain-0.2.16-py3-none-any.whl.metadata (7.1 kB)\n",
            "Requirement already satisfied: PyYAML>=5.3 in /usr/local/lib/python3.10/dist-packages (from langchain) (6.0.2)\n",
            "Requirement already satisfied: SQLAlchemy<3,>=1.4 in /usr/local/lib/python3.10/dist-packages (from langchain) (2.0.32)\n",
            "Requirement already satisfied: aiohttp<4.0.0,>=3.8.3 in /usr/local/lib/python3.10/dist-packages (from langchain) (3.10.5)\n",
            "Requirement already satisfied: async-timeout<5.0.0,>=4.0.0 in /usr/local/lib/python3.10/dist-packages (from langchain) (4.0.3)\n",
            "Collecting langchain-core<0.3.0,>=0.2.38 (from langchain)\n",
            "  Downloading langchain_core-0.2.38-py3-none-any.whl.metadata (6.2 kB)\n",
            "Collecting langchain-text-splitters<0.3.0,>=0.2.0 (from langchain)\n",
            "  Downloading langchain_text_splitters-0.2.4-py3-none-any.whl.metadata (2.3 kB)\n",
            "Collecting langsmith<0.2.0,>=0.1.17 (from langchain)\n",
            "  Downloading langsmith-0.1.115-py3-none-any.whl.metadata (13 kB)\n",
            "Requirement already satisfied: numpy<2,>=1 in /usr/local/lib/python3.10/dist-packages (from langchain) (1.26.4)\n",
            "Requirement already satisfied: pydantic<3,>=1 in /usr/local/lib/python3.10/dist-packages (from langchain) (2.8.2)\n",
            "Requirement already satisfied: requests<3,>=2 in /usr/local/lib/python3.10/dist-packages (from langchain) (2.32.3)\n",
            "Collecting tenacity!=8.4.0,<9.0.0,>=8.1.0 (from langchain)\n",
            "  Downloading tenacity-8.5.0-py3-none-any.whl.metadata (1.2 kB)\n",
            "Requirement already satisfied: aiohappyeyeballs>=2.3.0 in /usr/local/lib/python3.10/dist-packages (from aiohttp<4.0.0,>=3.8.3->langchain) (2.4.0)\n",
            "Requirement already satisfied: aiosignal>=1.1.2 in /usr/local/lib/python3.10/dist-packages (from aiohttp<4.0.0,>=3.8.3->langchain) (1.3.1)\n",
            "Requirement already satisfied: attrs>=17.3.0 in /usr/local/lib/python3.10/dist-packages (from aiohttp<4.0.0,>=3.8.3->langchain) (24.2.0)\n",
            "Requirement already satisfied: frozenlist>=1.1.1 in /usr/local/lib/python3.10/dist-packages (from aiohttp<4.0.0,>=3.8.3->langchain) (1.4.1)\n",
            "Requirement already satisfied: multidict<7.0,>=4.5 in /usr/local/lib/python3.10/dist-packages (from aiohttp<4.0.0,>=3.8.3->langchain) (6.0.5)\n",
            "Requirement already satisfied: yarl<2.0,>=1.0 in /usr/local/lib/python3.10/dist-packages (from aiohttp<4.0.0,>=3.8.3->langchain) (1.9.4)\n",
            "Collecting jsonpatch<2.0,>=1.33 (from langchain-core<0.3.0,>=0.2.38->langchain)\n",
            "  Downloading jsonpatch-1.33-py2.py3-none-any.whl.metadata (3.0 kB)\n",
            "Requirement already satisfied: packaging<25,>=23.2 in /usr/local/lib/python3.10/dist-packages (from langchain-core<0.3.0,>=0.2.38->langchain) (24.1)\n",
            "Requirement already satisfied: typing-extensions>=4.7 in /usr/local/lib/python3.10/dist-packages (from langchain-core<0.3.0,>=0.2.38->langchain) (4.12.2)\n",
            "Collecting httpx<1,>=0.23.0 (from langsmith<0.2.0,>=0.1.17->langchain)\n",
            "  Downloading httpx-0.27.2-py3-none-any.whl.metadata (7.1 kB)\n",
            "Collecting orjson<4.0.0,>=3.9.14 (from langsmith<0.2.0,>=0.1.17->langchain)\n",
            "  Downloading orjson-3.10.7-cp310-cp310-manylinux_2_17_x86_64.manylinux2014_x86_64.whl.metadata (50 kB)\n",
            "\u001b[2K     \u001b[90m━━━━━━━━━━━━━━━━━━━━━━━━━━━━━━━━━━━━━━━━\u001b[0m \u001b[32m50.4/50.4 kB\u001b[0m \u001b[31m2.7 MB/s\u001b[0m eta \u001b[36m0:00:00\u001b[0m\n",
            "\u001b[?25hRequirement already satisfied: annotated-types>=0.4.0 in /usr/local/lib/python3.10/dist-packages (from pydantic<3,>=1->langchain) (0.7.0)\n",
            "Requirement already satisfied: pydantic-core==2.20.1 in /usr/local/lib/python3.10/dist-packages (from pydantic<3,>=1->langchain) (2.20.1)\n",
            "Requirement already satisfied: charset-normalizer<4,>=2 in /usr/local/lib/python3.10/dist-packages (from requests<3,>=2->langchain) (3.3.2)\n",
            "Requirement already satisfied: idna<4,>=2.5 in /usr/local/lib/python3.10/dist-packages (from requests<3,>=2->langchain) (3.8)\n",
            "Requirement already satisfied: urllib3<3,>=1.21.1 in /usr/local/lib/python3.10/dist-packages (from requests<3,>=2->langchain) (2.0.7)\n",
            "Requirement already satisfied: certifi>=2017.4.17 in /usr/local/lib/python3.10/dist-packages (from requests<3,>=2->langchain) (2024.8.30)\n",
            "Requirement already satisfied: greenlet!=0.4.17 in /usr/local/lib/python3.10/dist-packages (from SQLAlchemy<3,>=1.4->langchain) (3.0.3)\n",
            "Requirement already satisfied: anyio in /usr/local/lib/python3.10/dist-packages (from httpx<1,>=0.23.0->langsmith<0.2.0,>=0.1.17->langchain) (3.7.1)\n",
            "Collecting httpcore==1.* (from httpx<1,>=0.23.0->langsmith<0.2.0,>=0.1.17->langchain)\n",
            "  Downloading httpcore-1.0.5-py3-none-any.whl.metadata (20 kB)\n",
            "Requirement already satisfied: sniffio in /usr/local/lib/python3.10/dist-packages (from httpx<1,>=0.23.0->langsmith<0.2.0,>=0.1.17->langchain) (1.3.1)\n",
            "Collecting h11<0.15,>=0.13 (from httpcore==1.*->httpx<1,>=0.23.0->langsmith<0.2.0,>=0.1.17->langchain)\n",
            "  Downloading h11-0.14.0-py3-none-any.whl.metadata (8.2 kB)\n",
            "Collecting jsonpointer>=1.9 (from jsonpatch<2.0,>=1.33->langchain-core<0.3.0,>=0.2.38->langchain)\n",
            "  Downloading jsonpointer-3.0.0-py2.py3-none-any.whl.metadata (2.3 kB)\n",
            "Requirement already satisfied: exceptiongroup in /usr/local/lib/python3.10/dist-packages (from anyio->httpx<1,>=0.23.0->langsmith<0.2.0,>=0.1.17->langchain) (1.2.2)\n",
            "Downloading langchain-0.2.16-py3-none-any.whl (1.0 MB)\n",
            "\u001b[2K   \u001b[90m━━━━━━━━━━━━━━━━━━━━━━━━━━━━━━━━━━━━━━━━\u001b[0m \u001b[32m1.0/1.0 MB\u001b[0m \u001b[31m21.9 MB/s\u001b[0m eta \u001b[36m0:00:00\u001b[0m\n",
            "\u001b[?25hDownloading langchain_core-0.2.38-py3-none-any.whl (396 kB)\n",
            "\u001b[2K   \u001b[90m━━━━━━━━━━━━━━━━━━━━━━━━━━━━━━━━━━━━━━━━\u001b[0m \u001b[32m396.4/396.4 kB\u001b[0m \u001b[31m25.1 MB/s\u001b[0m eta \u001b[36m0:00:00\u001b[0m\n",
            "\u001b[?25hDownloading langchain_text_splitters-0.2.4-py3-none-any.whl (25 kB)\n",
            "Downloading langsmith-0.1.115-py3-none-any.whl (290 kB)\n",
            "\u001b[2K   \u001b[90m━━━━━━━━━━━━━━━━━━━━━━━━━━━━━━━━━━━━━━━━\u001b[0m \u001b[32m290.2/290.2 kB\u001b[0m \u001b[31m19.5 MB/s\u001b[0m eta \u001b[36m0:00:00\u001b[0m\n",
            "\u001b[?25hDownloading tenacity-8.5.0-py3-none-any.whl (28 kB)\n",
            "Downloading httpx-0.27.2-py3-none-any.whl (76 kB)\n",
            "\u001b[2K   \u001b[90m━━━━━━━━━━━━━━━━━━━━━━━━━━━━━━━━━━━━━━━━\u001b[0m \u001b[32m76.4/76.4 kB\u001b[0m \u001b[31m5.8 MB/s\u001b[0m eta \u001b[36m0:00:00\u001b[0m\n",
            "\u001b[?25hDownloading httpcore-1.0.5-py3-none-any.whl (77 kB)\n",
            "\u001b[2K   \u001b[90m━━━━━━━━━━━━━━━━━━━━━━━━━━━━━━━━━━━━━━━━\u001b[0m \u001b[32m77.9/77.9 kB\u001b[0m \u001b[31m6.1 MB/s\u001b[0m eta \u001b[36m0:00:00\u001b[0m\n",
            "\u001b[?25hDownloading jsonpatch-1.33-py2.py3-none-any.whl (12 kB)\n",
            "Downloading orjson-3.10.7-cp310-cp310-manylinux_2_17_x86_64.manylinux2014_x86_64.whl (141 kB)\n",
            "\u001b[2K   \u001b[90m━━━━━━━━━━━━━━━━━━━━━━━━━━━━━━━━━━━━━━━━\u001b[0m \u001b[32m141.9/141.9 kB\u001b[0m \u001b[31m9.9 MB/s\u001b[0m eta \u001b[36m0:00:00\u001b[0m\n",
            "\u001b[?25hDownloading jsonpointer-3.0.0-py2.py3-none-any.whl (7.6 kB)\n",
            "Downloading h11-0.14.0-py3-none-any.whl (58 kB)\n",
            "\u001b[2K   \u001b[90m━━━━━━━━━━━━━━━━━━━━━━━━━━━━━━━━━━━━━━━━\u001b[0m \u001b[32m58.3/58.3 kB\u001b[0m \u001b[31m4.5 MB/s\u001b[0m eta \u001b[36m0:00:00\u001b[0m\n",
            "\u001b[?25hInstalling collected packages: tenacity, orjson, jsonpointer, h11, jsonpatch, httpcore, httpx, langsmith, langchain-core, langchain-text-splitters, langchain\n",
            "  Attempting uninstall: tenacity\n",
            "    Found existing installation: tenacity 9.0.0\n",
            "    Uninstalling tenacity-9.0.0:\n",
            "      Successfully uninstalled tenacity-9.0.0\n",
            "Successfully installed h11-0.14.0 httpcore-1.0.5 httpx-0.27.2 jsonpatch-1.33 jsonpointer-3.0.0 langchain-0.2.16 langchain-core-0.2.38 langchain-text-splitters-0.2.4 langsmith-0.1.115 orjson-3.10.7 tenacity-8.5.0\n"
          ]
        }
      ]
    },
    {
      "cell_type": "markdown",
      "source": [
        "Este trecho de código define uma classe ExtractPokemon que estrutura e armazena informações sobre um Pokémon, utilizando Pydantic para validação. O objetivo é organizar os dados do Pokémon (nome e URL) e fornecer um método para buscar mais detalhes através da integração com a PokéAPI. Isso é importante para garantir que os dados dos Pokémon sejam armazenados de forma estruturada e possam ser facilmente acessados e utilizados pela Pokédex."
      ],
      "metadata": {
        "id": "z8JuEiEppN23"
      }
    },
    {
      "cell_type": "code",
      "source": [
        "from typing import List, Optional\n",
        "from langchain_core.pydantic_v1 import BaseModel, Field\n",
        "\n",
        "class ExtractPokemon(BaseModel):\n",
        "    \"\"\"A class to structure and hold the pokemon info\"\"\"\n",
        "\n",
        "    name:               str     = Field(description=\"The pokemons name\")\n",
        "    url:                str     = Field(description=\"The url of the pokemon\")\n",
        "\n",
        "    def get_info(self) -> dict:\n",
        "        return PokeApi.get_by_name(self.name)\n",
        "\n",
        "\n",
        ""
      ],
      "metadata": {
        "id": "C7ADbOlpoxvK"
      },
      "execution_count": 4,
      "outputs": []
    },
    {
      "cell_type": "markdown",
      "source": [
        "Este trecho de código define templates para prompts que serão usados em interações com o LLM. Os prompts orientam o LLM a buscar informações específicas, como a classe de um Pokémon, seu tipo, ou fornecer respostas sobre o universo Pokémon. Isso é feito para garantir que o modelo de linguagem responda de forma direcionada e precisa às consultas feitas pela Pokédex."
      ],
      "metadata": {
        "id": "49XmGORgpaV1"
      }
    },
    {
      "cell_type": "code",
      "source": [
        "\n",
        "from langchain_core.messages import HumanMessage, SystemMessage\n",
        "from langchain.prompts import ChatPromptTemplate\n",
        "from langchain.prompts import HumanMessagePromptTemplate\n",
        "\n",
        "prompt_pokemon_key_type = ChatPromptTemplate.from_messages(\n",
        "    [\n",
        "        SystemMessage(\n",
        "            content=\"You are a expert in pokemons,With this pokemon name write only one type in uppercase, like this: NORMAL, FIRE, WATER, ELECTRIC, GRASS, ICE, FIGHTING, POISON, GROUND, FLYING, BUG, ROCK, GHOST, DRAGON, DARK, STEEL, FAIRY\"\n",
        "        ),\n",
        "        HumanMessagePromptTemplate.from_template(\"{pokemon_name}\")\n",
        "    ]\n",
        ")\n",
        "\n",
        "prompt_search_pokemon_on_json = ChatPromptTemplate.from_messages(\n",
        "    [\n",
        "        SystemMessage(\n",
        "            content=\"Give this question, and the data, find and structure the pokemon class\"\n",
        "        ),\n",
        "        HumanMessagePromptTemplate.from_template(\"Question: {question}\"),\n",
        "        HumanMessagePromptTemplate.from_template(\"Data: {data}\")\n",
        "    ]\n",
        ")\n",
        "\n",
        "prompt_pokedex_awnser = ChatPromptTemplate.from_messages(\n",
        "    [\n",
        "        SystemMessage(\"You are a expert in the pokemon universe, Answer the question only with knowledge of the pokemon universe, Write a plain text without any special character\"),\n",
        "        HumanMessagePromptTemplate.from_template(\"Question: {question}\")\n",
        "    ]\n",
        ")"
      ],
      "metadata": {
        "id": "OB-P_msWpS59"
      },
      "execution_count": 5,
      "outputs": []
    },
    {
      "cell_type": "markdown",
      "source": [
        "Este trecho de código define a classe LLMApi, que utiliza o LLM para responder perguntas sobre Pokémon, extrair informações detalhadas e processar os dados da PokéAPI. Isso é feito para integrar o LLM com a Pokédex, permitindo que ele busque e estruture dados de Pokémon com base em perguntas fornecidas, utilizando modelos como o GPT-4 para processamento e extração de informações relevantes."
      ],
      "metadata": {
        "id": "mKpZ4v4NvXzw"
      }
    },
    {
      "cell_type": "code",
      "source": [
        "pip install langchain_openai"
      ],
      "metadata": {
        "colab": {
          "base_uri": "https://localhost:8080/"
        },
        "id": "WT9jFLZYvd8h",
        "outputId": "8b967bf8-6039-446e-b1ed-4b8aff3a3056"
      },
      "execution_count": 8,
      "outputs": [
        {
          "output_type": "stream",
          "name": "stdout",
          "text": [
            "Collecting langchain_openai\n",
            "  Downloading langchain_openai-0.1.23-py3-none-any.whl.metadata (2.6 kB)\n",
            "Requirement already satisfied: langchain-core<0.3.0,>=0.2.35 in /usr/local/lib/python3.10/dist-packages (from langchain_openai) (0.2.38)\n",
            "Collecting openai<2.0.0,>=1.40.0 (from langchain_openai)\n",
            "  Downloading openai-1.44.0-py3-none-any.whl.metadata (22 kB)\n",
            "Collecting tiktoken<1,>=0.7 (from langchain_openai)\n",
            "  Downloading tiktoken-0.7.0-cp310-cp310-manylinux_2_17_x86_64.manylinux2014_x86_64.whl.metadata (6.6 kB)\n",
            "Requirement already satisfied: PyYAML>=5.3 in /usr/local/lib/python3.10/dist-packages (from langchain-core<0.3.0,>=0.2.35->langchain_openai) (6.0.2)\n",
            "Requirement already satisfied: jsonpatch<2.0,>=1.33 in /usr/local/lib/python3.10/dist-packages (from langchain-core<0.3.0,>=0.2.35->langchain_openai) (1.33)\n",
            "Requirement already satisfied: langsmith<0.2.0,>=0.1.75 in /usr/local/lib/python3.10/dist-packages (from langchain-core<0.3.0,>=0.2.35->langchain_openai) (0.1.115)\n",
            "Requirement already satisfied: packaging<25,>=23.2 in /usr/local/lib/python3.10/dist-packages (from langchain-core<0.3.0,>=0.2.35->langchain_openai) (24.1)\n",
            "Requirement already satisfied: pydantic<3,>=1 in /usr/local/lib/python3.10/dist-packages (from langchain-core<0.3.0,>=0.2.35->langchain_openai) (2.8.2)\n",
            "Requirement already satisfied: tenacity!=8.4.0,<9.0.0,>=8.1.0 in /usr/local/lib/python3.10/dist-packages (from langchain-core<0.3.0,>=0.2.35->langchain_openai) (8.5.0)\n",
            "Requirement already satisfied: typing-extensions>=4.7 in /usr/local/lib/python3.10/dist-packages (from langchain-core<0.3.0,>=0.2.35->langchain_openai) (4.12.2)\n",
            "Requirement already satisfied: anyio<5,>=3.5.0 in /usr/local/lib/python3.10/dist-packages (from openai<2.0.0,>=1.40.0->langchain_openai) (3.7.1)\n",
            "Requirement already satisfied: distro<2,>=1.7.0 in /usr/lib/python3/dist-packages (from openai<2.0.0,>=1.40.0->langchain_openai) (1.7.0)\n",
            "Requirement already satisfied: httpx<1,>=0.23.0 in /usr/local/lib/python3.10/dist-packages (from openai<2.0.0,>=1.40.0->langchain_openai) (0.27.2)\n",
            "Collecting jiter<1,>=0.4.0 (from openai<2.0.0,>=1.40.0->langchain_openai)\n",
            "  Downloading jiter-0.5.0-cp310-cp310-manylinux_2_17_x86_64.manylinux2014_x86_64.whl.metadata (3.6 kB)\n",
            "Requirement already satisfied: sniffio in /usr/local/lib/python3.10/dist-packages (from openai<2.0.0,>=1.40.0->langchain_openai) (1.3.1)\n",
            "Requirement already satisfied: tqdm>4 in /usr/local/lib/python3.10/dist-packages (from openai<2.0.0,>=1.40.0->langchain_openai) (4.66.5)\n",
            "Requirement already satisfied: regex>=2022.1.18 in /usr/local/lib/python3.10/dist-packages (from tiktoken<1,>=0.7->langchain_openai) (2024.5.15)\n",
            "Requirement already satisfied: requests>=2.26.0 in /usr/local/lib/python3.10/dist-packages (from tiktoken<1,>=0.7->langchain_openai) (2.32.3)\n",
            "Requirement already satisfied: idna>=2.8 in /usr/local/lib/python3.10/dist-packages (from anyio<5,>=3.5.0->openai<2.0.0,>=1.40.0->langchain_openai) (3.8)\n",
            "Requirement already satisfied: exceptiongroup in /usr/local/lib/python3.10/dist-packages (from anyio<5,>=3.5.0->openai<2.0.0,>=1.40.0->langchain_openai) (1.2.2)\n",
            "Requirement already satisfied: certifi in /usr/local/lib/python3.10/dist-packages (from httpx<1,>=0.23.0->openai<2.0.0,>=1.40.0->langchain_openai) (2024.8.30)\n",
            "Requirement already satisfied: httpcore==1.* in /usr/local/lib/python3.10/dist-packages (from httpx<1,>=0.23.0->openai<2.0.0,>=1.40.0->langchain_openai) (1.0.5)\n",
            "Requirement already satisfied: h11<0.15,>=0.13 in /usr/local/lib/python3.10/dist-packages (from httpcore==1.*->httpx<1,>=0.23.0->openai<2.0.0,>=1.40.0->langchain_openai) (0.14.0)\n",
            "Requirement already satisfied: jsonpointer>=1.9 in /usr/local/lib/python3.10/dist-packages (from jsonpatch<2.0,>=1.33->langchain-core<0.3.0,>=0.2.35->langchain_openai) (3.0.0)\n",
            "Requirement already satisfied: orjson<4.0.0,>=3.9.14 in /usr/local/lib/python3.10/dist-packages (from langsmith<0.2.0,>=0.1.75->langchain-core<0.3.0,>=0.2.35->langchain_openai) (3.10.7)\n",
            "Requirement already satisfied: annotated-types>=0.4.0 in /usr/local/lib/python3.10/dist-packages (from pydantic<3,>=1->langchain-core<0.3.0,>=0.2.35->langchain_openai) (0.7.0)\n",
            "Requirement already satisfied: pydantic-core==2.20.1 in /usr/local/lib/python3.10/dist-packages (from pydantic<3,>=1->langchain-core<0.3.0,>=0.2.35->langchain_openai) (2.20.1)\n",
            "Requirement already satisfied: charset-normalizer<4,>=2 in /usr/local/lib/python3.10/dist-packages (from requests>=2.26.0->tiktoken<1,>=0.7->langchain_openai) (3.3.2)\n",
            "Requirement already satisfied: urllib3<3,>=1.21.1 in /usr/local/lib/python3.10/dist-packages (from requests>=2.26.0->tiktoken<1,>=0.7->langchain_openai) (2.0.7)\n",
            "Downloading langchain_openai-0.1.23-py3-none-any.whl (51 kB)\n",
            "\u001b[2K   \u001b[90m━━━━━━━━━━━━━━━━━━━━━━━━━━━━━━━━━━━━━━━━\u001b[0m \u001b[32m52.0/52.0 kB\u001b[0m \u001b[31m3.3 MB/s\u001b[0m eta \u001b[36m0:00:00\u001b[0m\n",
            "\u001b[?25hDownloading openai-1.44.0-py3-none-any.whl (367 kB)\n",
            "\u001b[2K   \u001b[90m━━━━━━━━━━━━━━━━━━━━━━━━━━━━━━━━━━━━━━━━\u001b[0m \u001b[32m367.8/367.8 kB\u001b[0m \u001b[31m16.4 MB/s\u001b[0m eta \u001b[36m0:00:00\u001b[0m\n",
            "\u001b[?25hDownloading tiktoken-0.7.0-cp310-cp310-manylinux_2_17_x86_64.manylinux2014_x86_64.whl (1.1 MB)\n",
            "\u001b[2K   \u001b[90m━━━━━━━━━━━━━━━━━━━━━━━━━━━━━━━━━━━━━━━━\u001b[0m \u001b[32m1.1/1.1 MB\u001b[0m \u001b[31m36.6 MB/s\u001b[0m eta \u001b[36m0:00:00\u001b[0m\n",
            "\u001b[?25hDownloading jiter-0.5.0-cp310-cp310-manylinux_2_17_x86_64.manylinux2014_x86_64.whl (318 kB)\n",
            "\u001b[2K   \u001b[90m━━━━━━━━━━━━━━━━━━━━━━━━━━━━━━━━━━━━━━━━\u001b[0m \u001b[32m318.9/318.9 kB\u001b[0m \u001b[31m21.1 MB/s\u001b[0m eta \u001b[36m0:00:00\u001b[0m\n",
            "\u001b[?25hInstalling collected packages: jiter, tiktoken, openai, langchain_openai\n",
            "Successfully installed jiter-0.5.0 langchain_openai-0.1.23 openai-1.44.0 tiktoken-0.7.0\n"
          ]
        }
      ]
    },
    {
      "cell_type": "code",
      "source": [
        "from langchain_openai import ChatOpenAI\n",
        "from google.colab import userdata\n",
        "\n",
        "\n",
        "class LLMApi():\n",
        "\n",
        "    llm = ChatOpenAI(model='gpt-4o-mini', temperature=0, openai_api_key=userdata.get('OPENAI_API_KEY'))\n",
        "\n",
        "    @staticmethod\n",
        "    def find_pokemon_on_question(question: str) -> ExtractPokemon:\n",
        "        pokemons = PokeApi.get_pokemons().get('results')\n",
        "        structed_model = LLMApi.llm.with_structured_output(ExtractPokemon)\n",
        "        return structed_model.invoke(prompt_search_pokemon_on_json.format_messages(question=question, data=str(pokemons)))\n",
        "\n",
        "    @staticmethod\n",
        "    def structer_pokemon_extraction(extraction: ExtractPokemon):\n",
        "        data = extraction.get_info()\n",
        "        structed_model = LLMApi.llm.with_structured_output(Pokemon)\n",
        "        res = structed_model.invoke(str(data))\n",
        "        print(res)\n",
        "        print(\"hello\")\n",
        "        #return structed_model.invoke(str(data))\n",
        "\n",
        "    @staticmethod\n",
        "    def question(question: str):\n",
        "        return LLMApi.llm.invoke(question).content"
      ],
      "metadata": {
        "id": "bgpfLORxvYYo"
      },
      "execution_count": 16,
      "outputs": []
    },
    {
      "cell_type": "markdown",
      "source": [],
      "metadata": {
        "id": "B1kkxVJ8v3sb"
      }
    },
    {
      "cell_type": "code",
      "source": [
        "pip install pyfiglet"
      ],
      "metadata": {
        "colab": {
          "base_uri": "https://localhost:8080/"
        },
        "id": "t0HyWDyVwCPe",
        "outputId": "d91120b5-7da5-43ab-f21d-583a14771096"
      },
      "execution_count": 13,
      "outputs": [
        {
          "output_type": "stream",
          "name": "stdout",
          "text": [
            "Collecting pyfiglet\n",
            "  Downloading pyfiglet-1.0.2-py3-none-any.whl.metadata (7.1 kB)\n",
            "Downloading pyfiglet-1.0.2-py3-none-any.whl (1.1 MB)\n",
            "\u001b[?25l   \u001b[90m━━━━━━━━━━━━━━━━━━━━━━━━━━━━━━━━━━━━━━━━\u001b[0m \u001b[32m0.0/1.1 MB\u001b[0m \u001b[31m?\u001b[0m eta \u001b[36m-:--:--\u001b[0m\r\u001b[2K   \u001b[91m━━━━━━━━━━━━━━━━━━━\u001b[0m\u001b[91m╸\u001b[0m\u001b[90m━━━━━━━━━━━━━━━━━━━━\u001b[0m \u001b[32m0.5/1.1 MB\u001b[0m \u001b[31m16.9 MB/s\u001b[0m eta \u001b[36m0:00:01\u001b[0m\r\u001b[2K   \u001b[90m━━━━━━━━━━━━━━━━━━━━━━━━━━━━━━━━━━━━━━━━\u001b[0m \u001b[32m1.1/1.1 MB\u001b[0m \u001b[31m18.2 MB/s\u001b[0m eta \u001b[36m0:00:00\u001b[0m\n",
            "\u001b[?25hInstalling collected packages: pyfiglet\n",
            "Successfully installed pyfiglet-1.0.2\n"
          ]
        }
      ]
    },
    {
      "cell_type": "markdown",
      "source": [
        "Este trecho de código define a classe Pokedex, que é responsável por interagir com o usuário, exibir informações sobre Pokémon e mostrar imagens dos Pokémon em formato ASCII. A classe realiza as seguintes funções:\n",
        "\n",
        "Exibe a interface inicial: Imprime o título da Pokédex com cores e um estilo ASCII.\n",
        "Solicita perguntas ao usuário: Permite ao usuário fazer perguntas sobre Pokémon e usa o LLM para obter e exibir informações detalhadas sobre o Pokémon.\n",
        "Exibe informações do Pokémon: Mostra detalhes como nome, tipo, habilidades, altura, peso, estatísticas básicas e uma descrição do Pokémon.\n",
        "Converte e exibe imagens dos Pokémon: Faz o download da imagem do Pokémon, converte para arte ASCII e exibe no terminal."
      ],
      "metadata": {
        "id": "fnHAGYB1wMko"
      }
    },
    {
      "cell_type": "code",
      "source": [
        "import requests\n",
        "import pyfiglet\n",
        "import os\n",
        "\n",
        "\n",
        "from PIL import Image\n",
        "from io import BytesIO\n",
        "\n",
        "class Pokedex():\n",
        "\n",
        "    pokemon_colors = {\n",
        "        \"NORMAL\": \"\\033[90m\",    # Light Gray\n",
        "        \"FIRE\": \"\\033[91m\",      # Red\n",
        "        \"WATER\": \"\\033[94m\",     # Blue\n",
        "        \"ELECTRIC\": \"\\033[93m\",  # Yellow\n",
        "        \"GRASS\": \"\\033[92m\",     # Green\n",
        "        \"ICE\": \"\\033[96m\",       # Light Cyan\n",
        "        \"FIGHTING\": \"\\033[31m\",  # Dark Red\n",
        "        \"POISON\": \"\\033[95m\",    # Purple\n",
        "        \"GROUND\": \"\\033[33m\",    # Brown\n",
        "        \"FLYING\": \"\\033[94m\",    # Sky Blue\n",
        "        \"PSYCHIC\": \"\\033[95m\",   # Pink\n",
        "        \"BUG\": \"\\033[92m\",       # Light Green\n",
        "        \"ROCK\": \"\\033[33m\",      # Dark Brown\n",
        "        \"GHOST\": \"\\033[35m\",     # Dark Purple\n",
        "        \"DRAGON\": \"\\033[34m\",    # Dark Blue\n",
        "        \"DARK\": \"\\033[30m\",      # Black\n",
        "        \"STEEL\": \"\\033[37m\",     # Metallic Silver\n",
        "        \"FAIRY\": \"\\033[95m\",     # Pale Pink\n",
        "        \"RESET\": \"\\033[0m\"       # Reset color\n",
        "    }\n",
        "\n",
        "\n",
        "    state = 0\n",
        "\n",
        "    ASCII_CHARS = [\" \", \"#\", \"S\", \"%\", \"?\", \"*\", \"+\", \";\", \":\", \",\", \".\"]\n",
        "\n",
        "    def start(self):\n",
        "\n",
        "        print(f\"{Pokedex.pokemon_colors.get('WATER')}\")\n",
        "        print(pyfiglet.Figlet(font='slant').renderText(\"GPT-DEX\"))\n",
        "        print(f\"{Pokedex.pokemon_colors.get('RESET')}\")\n",
        "\n",
        "        self.print_default()\n",
        "        while True:\n",
        "            self.question = input(\"\\n\\tAsk a question of a pokemon to the pokedex:\\n\\t\")\n",
        "            pokemon = LLMApi.find_pokemon_on_question(self.question)\n",
        "            pokemon_data = pokemon.get_info()\n",
        "            os.system('clear')\n",
        "            print(f\"{Pokedex.pokemon_colors.get('WATER')}\")\n",
        "            print(pyfiglet.Figlet(font='slant').renderText(\"GPT-DEX\"))\n",
        "            print(f\"{Pokedex.pokemon_colors.get('RESET')}\")\n",
        "            self.show_pokemon(pokemon_data)\n",
        "\n",
        "    def print_default(self):\n",
        "        print(\"\\t[Name]: Unknown\")\n",
        "        print(\"\"\"\n",
        "@@@@@@@@@@@@@@@@@@@@@@@@@@@@@@@@@@@@@@@@@@@@@@@@@@\n",
        "@@@@@@@@@@@@@@@@@@@@@@@@@@@@@@@@@@@@@@@@@@@@@@@@@@\n",
        "@@@@@@@@@@@@@@@@@@@@@@@@@@@@@@@@@@@@@@@@@@@@@@@@@@\n",
        "@@@@@@@@@@@@@@@@@@@@@@@@@@@@@@@@@@@@@@@@@@@@@@@@@@\n",
        "@@@@@@@@@@@@@@@@@@@@@@@@@@@@@@@@@@@@@@@@@@@@@@@@@@\n",
        "@@@@@@@@@@@@@@@@@@@@@@@@@@@@@@@@@@@@@@@@@@@@@@@@@@\n",
        "@@@@@@@@@@@@@@@@@@@@@@@@@@@@@@@@@@@@@@@@@@@@@@@@@@\n",
        "@@@@@@@@@@@@@@@@@@@@@@@@@@@@@@@@@@@@@@@@@@@@@@@@@@\n",
        "@@@@@@@@@@@@@@@@@@@@@@@@@@@@@@@@@@@@@@@@@@@@@@@@@@\n",
        "@@@@@@@@@@@@@@@@@@@@@@@@@@@@@@@@@@@@@@@@@@@@@@@@@@\n",
        "@@@@@@@@@@@@@@@@@@@@@@@@@@@@@@@@@@@@@@@@@@@@@@@@@@\n",
        "@@@@@@@@@@@@@@@@@@@@@@@@@@@@@@@@@@@@@@@@@@@@@@@@@@\n",
        "@@@@@@@@@@@@@@@@@@@@@@@@@@@@@@@@@@@@@@@@@@@@@@@@@@\n",
        "@@@@@@@@@@@@@@@@@@@@@@@@@@@@@@@@@@@@@@@@@@@@@@@@@@\n",
        "@@@@@@@@@@@@@@@@@@@@@@@@@@@@@@@@@@@@@@@@@@@@@@@@@@\n",
        "@@@@@@@@@@@@@@@@@@@@@@@@@@@@@@@@@@@@@@@@@@@@@@@@@@\n",
        "@@@@@@@@@@@@@@@@@@@@@@@@@@@@@@@@@@@@@@@@@@@@@@@@@@\n",
        "@@@@@@@@@@@@@@@@@@@@@@@@@@@@@@@@@@@@@@@@@@@@@@@@@@\n",
        "@@@@@@@@@@@@@@@@@@@@@@@@@@@@@@@@@@@@@@@@@@@@@@@@@@\n",
        "@@@@@@@@@@@@@@@@@@@@@@@@@@@@@@@@@@@@@@@@@@@@@@@@@@\n",
        "@@@@@@@@@@@@@@@@@@@@@@@@@@@@@@@@@@@@@@@@@@@@@@@@@@\n",
        "@@@@@@@@@@@@@@@@@@@@@@@@@@@@@@@@@@@@@@@@@@@@@@@@@@\n",
        "@@@@@@@@@@@@@@@@@@@@@@@@@@@@@@@@@@@@@@@@@@@@@@@@@@\n",
        "@@@@@@@@@@@@@@@@@@@@@@@@@@@@@@@@@@@@@@@@@@@@@@@@@@\n",
        "@@@@@@@@@@@@@@@@@@@@@@@@@@@@@@@@@@@@@@@@@@@@@@@@@@\n",
        "@@@@@@@@@@@@@@@@@@@@@@@@@@@@@@@@@@@@@@@@@@@@@@@@@@\n",
        "@@@@@@@@@@@@@@@@@@@@@@@@@@@@@@@@@@@@@@@@@@@@@@@@@@\n",
        "@@@@@@@@@@@@@@@@@@@@@@@@@@@@@@@@@@@@@@@@@@@@@@@@@@\n",
        "@@@@@@@@@@@@@@@@@@@@@@@@@@@@@@@@@@@@@@@@@@@@@@@@@@\n",
        "@@@@@@@@@@@@@@@@@@@@@@@@@@@@@@@@@@@@@@@@@@@@@@@@@@\n",
        "        \"\"\")\n",
        "\n",
        "        print(\"\\t[Type]:\\t\\t Unknown\")\n",
        "        print(\"\\t[Abilities]:\\t Unknown\")\n",
        "        print(\"\\t[Height]:\\t Unknown\")\n",
        "        print(\"\\t[Weight]:\\t Unknown\")\n",
        "        print(\"\\t[Base Stats]:\\t Unknown\")\n",
        "        print(\"\\t[Region]:\\t Unknown\")\n",
        "        print(\"\\t[Description]:\\t Unknown\")\n",
        "\n",
        "    # Resize the image to fit in the terminal window\n",
        "    def resize_image(self, image, new_width=100):\n",
        "        width, height = image.size\n",
        "        ratio = height / width / 1.65  # Adjust the aspect ratio\n",
        "        new_height = int(new_width * ratio)\n",
        "        resized_image = image.resize((new_width, new_height))\n",
        "        return resized_image\n",
        "\n",
        "    # Convert the image to grayscale\n",
        "    def grayscale_image(self, image):\n",
        "        return image.convert(\"L\")\n",
        "\n",
        "    # Map grayscale pixels to ASCII characters\n",
        "    def pixels_to_ascii(self, image):\n",
        "        pixels = image.getdata()\n",
        "        ascii_str = \"\".join([Pokedex.ASCII_CHARS[pixel // 25] for pixel in pixels])\n",
        "        return ascii_str\n",
        "\n",
        "    # Convert an image to ASCII art\n",
        "    def image_to_ascii(self, image_path, width=100):\n",
        "        image = Image.open(image_path)\n",
        "        image = self.resize_image(image, width)\n",
        "        image = self.grayscale_image(image)\n",
        "\n",
        "        ascii_str =  self.pixels_to_ascii(image)\n",
        "        img_width = image.width\n",
        "        ascii_str_len = len(ascii_str)\n",
        "\n",
        "        ascii_image = \"\\n\".join([ascii_str[i:i + img_width] for i in range(0, ascii_str_len, img_width)])\n",
        "        return ascii_image\n",
        "\n",
        "    def show_pokemon(self, pokemon: dict):\n",
        "        name = pokemon.get('name')\n",
        "        key = LLMApi.question(prompt_pokemon_key_type.format_messages(pokemon_name=name))\n",
        "        print(self.pokemon_colors.get(key))\n",
        "        print(f\"\\t[Name]:{name}\")\n",
        "        self.show_pokemon_image(pokemon.get(\"sprites\").get(\"front_default\"))\n",
        "        print(self.pokemon_colors.get('RESET'))\n",
        "        print(f\"\\t[Type]:\\t\\t{self.pokemon_colors.get(key)} {key} {self.pokemon_colors.get('RESET')}\")\n",
        "        print(f\"\\t[Abilities]:\\t {[ability['ability']['name'] for ability in pokemon['abilities']] }\")\n",
        "        print(f\"\\t[Height]:\\t {pokemon.get('height')}\")\n",
        "        print(f\"\\t[Base Stats]:\\t {[stat['stat']['name'] for stat in pokemon['stats']] })\")\n",
        "        description = LLMApi.question(f\"Write a 100 word description of the pokemon {name}\")\n",
        "        print(f\"\\n\\t[Description]:\\t {description}\")\n",
        "        print(f\"\\n\\t[Awnser]:\\t \", {LLMApi.question(prompt_pokedex_awnser.format_messages(question=self.question))})\n",
        "\n",
        "    def show_pokemon_image(self, url: str):\n",
        "        res = requests.get(url)\n",
        "        img = Image.open(BytesIO(res.content))\n",
        "        img.save(\"current_pokemon.png\")\n",
        "        ascii_art = self.image_to_ascii(\"current_pokemon.png\", width=50)\n",
        "        print(ascii_art)"
      ],
      "metadata": {
        "id": "GSyKd6Alv4AA"
      },
      "execution_count": 14,
      "outputs": []
    },
    {
      "cell_type": "code",
      "source": [
        "if __name__ == \"__main__\":\n",
        "\n",
        "    pokedex = Pokedex()\n",
        "    pokedex.start()"
      ],
      "metadata": {
        "colab": {
          "base_uri": "https://localhost:8080/",
          "height": 1000
        },
        "id": "h_DsBt-nwP54",
        "outputId": "76e79233-5f5b-4ad5-80e0-fc6bbfd7fbd7"
      },
      "execution_count": 17,
      "outputs": [
        {
          "output_type": "stream",
          "name": "stdout",
          "text": [
            "\u001b[94m\n",
            "   __________  ______    ____  _______  __\n",
            "  / ____/ __ \\/_  __/   / __ \\/ ____/ |/ /\n",
            " / / __/ /_/ / / /_____/ / / / __/  |   / \n",
            "/ /_/ / ____/ / /_____/ /_/ / /___ /   |  \n",
            "\\____/_/     /_/     /_____/_____//_/|_|  \n",
            "                                          \n",
            "\n",
            "\u001b[0m\n",
            "\t[Name]: Unknown\n",
            "\n",
            "@@@@@@@@@@@@@@@@@@@@@@@@@@@@@@@@@@@@@@@@@@@@@@@@@@\n",
            "@@@@@@@@@@@@@@@@@@@@@@@@@@@@@@@@@@@@@@@@@@@@@@@@@@\n",
            "@@@@@@@@@@@@@@@@@@@@@@@@@@@@@@@@@@@@@@@@@@@@@@@@@@\n",
            "@@@@@@@@@@@@@@@@@@@@@@@@@@@@@@@@@@@@@@@@@@@@@@@@@@\n",
            "@@@@@@@@@@@@@@@@@@@@@@@@@@@@@@@@@@@@@@@@@@@@@@@@@@\n",
            "@@@@@@@@@@@@@@@@@@@@@@@@@@@@@@@@@@@@@@@@@@@@@@@@@@\n",
            "@@@@@@@@@@@@@@@@@@@@@@@@@@@@@@@@@@@@@@@@@@@@@@@@@@\n",
            "@@@@@@@@@@@@@@@@@@@@@@@@@@@@@@@@@@@@@@@@@@@@@@@@@@\n",
            "@@@@@@@@@@@@@@@@@@@@@@@@@@@@@@@@@@@@@@@@@@@@@@@@@@\n",
            "@@@@@@@@@@@@@@@@@@@@@@@@@@@@@@@@@@@@@@@@@@@@@@@@@@\n",
            "@@@@@@@@@@@@@@@@@@@@@@@@@@@@@@@@@@@@@@@@@@@@@@@@@@\n",
            "@@@@@@@@@@@@@@@@@@@@@@@@@@@@@@@@@@@@@@@@@@@@@@@@@@\n",
            "@@@@@@@@@@@@@@@@@@@@@@@@@@@@@@@@@@@@@@@@@@@@@@@@@@\n",
            "@@@@@@@@@@@@@@@@@@@@@@@@@@@@@@@@@@@@@@@@@@@@@@@@@@\n",
            "@@@@@@@@@@@@@@@@@@@@@@@@@@@@@@@@@@@@@@@@@@@@@@@@@@\n",
            "@@@@@@@@@@@@@@@@@@@@@@@@@@@@@@@@@@@@@@@@@@@@@@@@@@\n",
            "@@@@@@@@@@@@@@@@@@@@@@@@@@@@@@@@@@@@@@@@@@@@@@@@@@\n",
            "@@@@@@@@@@@@@@@@@@@@@@@@@@@@@@@@@@@@@@@@@@@@@@@@@@\n",
            "@@@@@@@@@@@@@@@@@@@@@@@@@@@@@@@@@@@@@@@@@@@@@@@@@@\n",
            "@@@@@@@@@@@@@@@@@@@@@@@@@@@@@@@@@@@@@@@@@@@@@@@@@@\n",
            "@@@@@@@@@@@@@@@@@@@@@@@@@@@@@@@@@@@@@@@@@@@@@@@@@@\n",
            "@@@@@@@@@@@@@@@@@@@@@@@@@@@@@@@@@@@@@@@@@@@@@@@@@@\n",
            "@@@@@@@@@@@@@@@@@@@@@@@@@@@@@@@@@@@@@@@@@@@@@@@@@@\n",
            "@@@@@@@@@@@@@@@@@@@@@@@@@@@@@@@@@@@@@@@@@@@@@@@@@@\n",
            "@@@@@@@@@@@@@@@@@@@@@@@@@@@@@@@@@@@@@@@@@@@@@@@@@@\n",
            "@@@@@@@@@@@@@@@@@@@@@@@@@@@@@@@@@@@@@@@@@@@@@@@@@@\n",
            "@@@@@@@@@@@@@@@@@@@@@@@@@@@@@@@@@@@@@@@@@@@@@@@@@@\n",
            "@@@@@@@@@@@@@@@@@@@@@@@@@@@@@@@@@@@@@@@@@@@@@@@@@@\n",
            "@@@@@@@@@@@@@@@@@@@@@@@@@@@@@@@@@@@@@@@@@@@@@@@@@@\n",
            "@@@@@@@@@@@@@@@@@@@@@@@@@@@@@@@@@@@@@@@@@@@@@@@@@@\n",
            "        \n",
            "\t[Type]:\t\t Unknown\n",
            "\t[Abilities]:\t Unknown\n",
            "\t[Height]:\t Unknown\n",
            "\t[Weight]:\t Unknown\n",
            "\t[Base Stats]:\t Unknown\n",
            "\t[Region]:\t Unknown\n",
            "\t[Description]:\t Unknown\n",
            "\n",
            "\tAsk a question of a pokemon to the pokedex:\n",
            "\ttell me about the charizard\n",
            "\u001b[94m\n",
            "   __________  ______    ____  _______  __\n",
            "  / ____/ __ \\/_  __/   / __ \\/ ____/ |/ /\n",
            " / / __/ /_/ / / /_____/ / / / __/  |   / \n",
            "/ /_/ / ____/ / /_____/ /_/ / /___ /   |  \n",
            "\\____/_/     /_/     /_____/_____//_/|_|  \n",
            "                                          \n",
            "\n",
            "\u001b[0m\n",
            "\u001b[91m\n",
            "\t[Name]:charizard\n",
            "                                                  \n",
            "                                                  \n",
            "                                                  \n",
            "                  ???                             \n",
            "                  ?+?: ?   S                      \n",
            "               ?;  ?::??   ?+?  SSS               \n",
            "           ++S++S ?::??:??  ++++SSS++??           \n",
            "         ++  ?++   ?:::+?   S SS%%%%%S?;S         \n",
            "       ?SSSSSSS+S   ?:?     S SS%%%%%%%S+         \n",
            "      S?SSSSSSSS+    S+S    ? SSS%%%%%%S??        \n",
            "      ?SSS?SSSSSSS    S???S ?SSSS%%%%%%SS+        \n",
            "     ?SSS? SS++SSS?     S? ?SSSSSS%%%%%SS??       \n",
            "     SSS?++++   S ++   S??SS%%SSSS%%   SSS?       \n",
            "      ?+++++++S??++++++??SSSSS ???SS    SS?       \n",
            "      ++;+:++++?? ??++++++       ????    S?       \n",
            "       S?S?+S +S ?S???+++++++SS   ????S  S        \n",
            "      S++++ ???S????++++++++S ++  S????S ?        \n",
            "      ++?   ? ?  +::::+++++++? ??  ?????S         \n",
            "         ??+++  ?:::::::++++S+++? ++++???         \n",
            "         ??S??  ::::::::::+++:?+??++++???         \n",
            "          S   S+:::::::::::+++S:+ +?????          \n",
            "             ?++S;:::::::::++++++?????;           \n",
            "            S++++?;;;;;;;;;?+++++? ;              \n",
            "            S?????? ;;;;;;;???+???                \n",
            "              ????S    S;;;; ??????               \n",
            "              % S??           ???++               \n",
            "                               ?S:?.              \n",
            "                                                  \n",
            "                                                  \n",
            "                                                  \n",
            "\u001b[0m\n",
            "\t[Type]:\t\t\u001b[91m FIRE \u001b[0m\n",
            "\t[Abilities]:\t ['blaze', 'solar-power']\n",
            "\t[Height]:\t 17\n",
            "\t[Base Stats]:\t ['hp', 'attack', 'defense', 'special-attack', 'special-defense', 'speed'])\n",
            "\n",
            "\t[Description]:\t Charizard is a dual-type Fire/Flying Pokémon, known for its dragon-like appearance and fierce demeanor. Evolving from Charmander, it features a vibrant orange body, large wings, and a long tail with a flame at the tip. Charizard is renowned for its powerful fire-based attacks, such as Flamethrower and Fire Blast, which can incinerate opponents. With a height of 5'7\" and a weight of 199 lbs, it embodies strength and agility. Charizard is often depicted as a symbol of courage and determination, making it a fan-favorite among trainers. Its Mega Evolutions further enhance its abilities, showcasing its legendary status in the Pokémon world.\n",
            "\n",
            "\t[Awnser]:\t  {'Charizard is a Fire and Flying type Pokémon introduced in Generation I. It is the final evolution of Charmander, evolving from Charmeleon at level 36. Charizard is known for its dragon-like appearance, featuring a long tail with a flame at the tip, large wings, and a fierce demeanor.\\n\\nIn terms of abilities, Charizard can have either Blaze, which boosts its Fire-type moves when its health is low, or Solar Power, which increases its Special Attack in sunny weather but causes it to lose health each turn. Charizard is also notable for its Mega Evolutions, Mega Charizard X and Mega Charizard Y, which were introduced in Generation VI. Mega Charizard X becomes a Fire and Dragon type, while Mega Charizard Y retains its Fire and Flying typing but gains enhanced abilities and stats.\\n\\nCharizard is popular among fans and is often featured in various media, including the Pokémon anime, where Ash Ketchum has a Charizard that plays a significant role in his journey. Charizard is also known for its powerful moves, including Flamethrower, Dragon Claw, and Air Slash. It has appeared in numerous Pokémon games, trading card sets, and merchandise, solidifying its status as an iconic Pokémon in the franchise.'}\n",
            "\n",
            "\tAsk a question of a pokemon to the pokedex:\n",
            "\ttell me about a random pokemon \n",
            "\u001b[94m\n",
            "   __________  ______    ____  _______  __\n",
            "  / ____/ __ \\/_  __/   / __ \\/ ____/ |/ /\n",
            " / / __/ /_/ / / /_____/ / / / __/  |   / \n",
            "/ /_/ / ____/ / /_____/ /_/ / /___ /   |  \n",
            "\\____/_/     /_/     /_____/_____//_/|_|  \n",
            "                                          \n",
            "\n",
            "\u001b[0m\n",
            "\u001b[92m\n",
            "\t[Name]:bulbasaur\n",
            "                                                  \n",
            "                                                  \n",
            "                                                  \n",
            "                                                  \n",
            "                                                  \n",
            "                                                  \n",
            "                                                  \n",
            "                                                  \n",
            "                                                  \n",
            "                                                  \n",
            "                      *::::;*%                    \n",
            "                :S %%%%S:;::;;*                   \n",
            "                :::??:;;;; :;;**                  \n",
            "               S?;:?::%.S??S****                  \n",
            "               ..;:::?.+:???S***                  \n",
            "               ?S;;%;;;S ?%?S?S                   \n",
            "                 ?%%++??  ??%??S                  \n",
            "                  ?;S???;;? ?SS?                  \n",
            "                  %??  ;;;  :::                   \n",
            "                                                  \n",
            "                                                  \n",
            "                                                  \n",
            "                                                  \n",
            "                                                  \n",
            "                                                  \n",
            "                                                  \n",
            "                                                  \n",
            "                                                  \n",
            "                                                  \n",
            "                                                  \n",
            "\u001b[0m\n",
            "\t[Type]:\t\t\u001b[92m GRASS \u001b[0m\n",
            "\t[Abilities]:\t ['overgrow', 'chlorophyll']\n",
            "\t[Height]:\t 7\n",
            "\t[Base Stats]:\t ['hp', 'attack', 'defense', 'special-attack', 'special-defense', 'speed'])\n",
            "\n",
            "\t[Description]:\t Bulbasaur is a dual-type Grass/Poison Pokémon, known as the Seed Pokémon. It is characterized by its squat, frog-like body and a large plant bulb on its back, which grows as it evolves. Bulbasaur is primarily green with darker green spots and has red eyes with white pupils. This Pokémon is known for its gentle nature and strong bond with its trainer. It can absorb sunlight to produce energy, making it a formidable opponent in battles. Bulbasaur evolves into Ivysaur at level 16 and later into Venusaur at level 32, showcasing its growth and the power of nature.\n",
            "\n",
            "\t[Awnser]:\t  {'One random Pokemon is Snorlax. Snorlax is a Normal-type Pokemon known for its large size and heavy weight. It is often found sleeping in various locations, blocking paths and causing trainers to find ways to wake it up. Snorlax has a calm and gentle demeanor but can become aggressive if disturbed. It is known for its high HP and strong physical attacks, making it a formidable opponent in battles. Snorlax evolves from Munchlax when it has a high friendship level. Its signature move is Rest, which allows it to recover health but puts it to sleep. Snorlax is also known for its love of food, often seen eating large quantities of berries.'}\n",
            "\u001b[94m\n",
            "   __________  ______    ____  _______  __\n",
            "  / ____/ __ \\/_  __/   / __ \\/ ____/ |/ /\n",
            " / / __/ /_/ / / /_____/ / / / __/  |   / \n",
            "/ /_/ / ____/ / /_____/ /_/ / /___ /   |  \n",
            "\\____/_/     /_/     /_____/_____//_/|_|  \n",
            "                                          \n",
            "\n",
            "\u001b[0m\n",
            "\u001b[34m\n",
            "\t[Name]:dragonite\n",
            "                                                  \n",
            "                                                  \n",
            "                          ,                       \n",
            "            S,S           S                       \n",
            "            ,      +*     ;                       \n",
            "                ; ;+?;S                           \n",
            "                 +;+++++                          \n",
            "            S**+ ++++: *    S?+%%%%%%**           \n",
            "              %% ;;++***    *#???                 \n",
            "                ++++++***  *%%#?       SSS        \n",
            "                  **S;***+*%??%%    *+++*S        \n",
            "                  S;;;**++        S++++           \n",
            "                S+ ;;,+++++       +++S            \n",
            "             S+++ ;;,,*+++++     ****             \n",
            "           *++++ ;***;*+ ++++*   *****            \n",
            "          :*****,,,,,,*++++++**   *****           \n",
            "            :: ,,,,,,,,++* ****  ******           \n",
            "               *,,,,**,* ++ :: :*******           \n",
            "            S;,,,,,,,,; ;;++***********           \n",
            "           S;;*,,,,,;**;;;+++* *****?             \n",
            "           S++ ;;;;;;; +++++*******??             \n",
            "            *** ;;;;;;;********??**               \n",
            "              *** ????** ******?                  \n",
            "              *****        ***                    \n",
            "           .*+****         ?**                    \n",
            "            .:*           **++*                   \n",
            "                           ....                   \n",
            "                                                  \n",
            "                                                  \n",
            "                                                  \n",
            "\u001b[0m\n",
            "\t[Type]:\t\t\u001b[34m DRAGON \u001b[0m\n",
            "\t[Abilities]:\t ['inner-focus', 'multiscale']\n",
            "\t[Height]:\t 22\n",
            "\t[Base Stats]:\t ['hp', 'attack', 'defense', 'special-attack', 'special-defense', 'speed'])\n",
            "\n",
            "\t[Description]:\t Dragonite is a dual-type Dragon/Flying Pokémon, known for its friendly demeanor and impressive power. Evolving from Dragonair, it resembles a large, orange dragon with a rounded body, small wings, and a long tail. Dragonite is celebrated for its incredible speed and strength, making it a formidable opponent in battles. It can learn a variety of moves, including powerful Dragon-type attacks and versatile Flying-type moves. Often seen soaring through the skies, Dragonite is also known for its caring nature, often helping lost sailors and guiding them home. Its playful spirit and loyalty make it a beloved choice among trainers.\n",
            "\n",
            "\t[Awnser]:\t  {'The best Pokémon to use against Dragonite are Ice-type Pokémon, as they are super effective against Dragon-type Pokémon. Some strong choices include Weavile, Mamoswine, and Gardevoir. Additionally, Fairy-type Pokémon like Sylveon can also be effective due to their resistance to Dragon-type moves.'}\n"
          ]
        },
        {
          "output_type": "error",
          "ename": "KeyboardInterrupt",
          "evalue": "Interrupted by user",
          "traceback": [
            "\u001b[0;31m---------------------------------------------------------------------------\u001b[0m",
            "\u001b[0;31mKeyboardInterrupt\u001b[0m                         Traceback (most recent call last)",
            "\u001b[0;32m<ipython-input-17-aecc541784ec>\u001b[0m in \u001b[0;36m<cell line: 1>\u001b[0;34m()\u001b[0m\n\u001b[1;32m      2\u001b[0m \u001b[0;34m\u001b[0m\u001b[0m\n\u001b[1;32m      3\u001b[0m     \u001b[0mpokedex\u001b[0m \u001b[0;34m=\u001b[0m \u001b[0mPokedex\u001b[0m\u001b[0;34m(\u001b[0m\u001b[0;34m)\u001b[0m\u001b[0;34m\u001b[0m\u001b[0;34m\u001b[0m\u001b[0m\n\u001b[0;32m----> 4\u001b[0;31m     \u001b[0mpokedex\u001b[0m\u001b[0;34m.\u001b[0m\u001b[0mstart\u001b[0m\u001b[0;34m(\u001b[0m\u001b[0;34m)\u001b[0m\u001b[0;34m\u001b[0m\u001b[0;34m\u001b[0m\u001b[0m\n\u001b[0m",
            "\u001b[0;32m<ipython-input-14-25cf94e825b5>\u001b[0m in \u001b[0;36mstart\u001b[0;34m(self)\u001b[0m\n\u001b[1;32m     44\u001b[0m         \u001b[0mself\u001b[0m\u001b[0;34m.\u001b[0m\u001b[0mprint_default\u001b[0m\u001b[0;34m(\u001b[0m\u001b[0;34m)\u001b[0m\u001b[0;34m\u001b[0m\u001b[0;34m\u001b[0m\u001b[0m\n\u001b[1;32m     45\u001b[0m         \u001b[0;32mwhile\u001b[0m \u001b[0;32mTrue\u001b[0m\u001b[0;34m:\u001b[0m\u001b[0;34m\u001b[0m\u001b[0;34m\u001b[0m\u001b[0m\n\u001b[0;32m---> 46\u001b[0;31m             \u001b[0mself\u001b[0m\u001b[0;34m.\u001b[0m\u001b[0mquestion\u001b[0m \u001b[0;34m=\u001b[0m \u001b[0minput\u001b[0m\u001b[0;34m(\u001b[0m\u001b[0;34m\"\\n\\tAsk a question of a pokemon to the pokedex:\\n\\t\"\u001b[0m\u001b[0;34m)\u001b[0m\u001b[0;34m\u001b[0m\u001b[0;34m\u001b[0m\u001b[0m\n\u001b[0m\u001b[1;32m     47\u001b[0m             \u001b[0mpokemon\u001b[0m \u001b[0;34m=\u001b[0m \u001b[0mLLMApi\u001b[0m\u001b[0;34m.\u001b[0m\u001b[0mfind_pokemon_on_question\u001b[0m\u001b[0;34m(\u001b[0m\u001b[0mself\u001b[0m\u001b[0;34m.\u001b[0m\u001b[0mquestion\u001b[0m\u001b[0;34m)\u001b[0m\u001b[0;34m\u001b[0m\u001b[0;34m\u001b[0m\u001b[0m\n\u001b[1;32m     48\u001b[0m             \u001b[0mpokemon_data\u001b[0m \u001b[0;34m=\u001b[0m \u001b[0mpokemon\u001b[0m\u001b[0;34m.\u001b[0m\u001b[0mget_info\u001b[0m\u001b[0;34m(\u001b[0m\u001b[0;34m)\u001b[0m\u001b[0;34m\u001b[0m\u001b[0;34m\u001b[0m\u001b[0m\n",
            "\u001b[0;32m/usr/local/lib/python3.10/dist-packages/ipykernel/kernelbase.py\u001b[0m in \u001b[0;36mraw_input\u001b[0;34m(self, prompt)\u001b[0m\n\u001b[1;32m    849\u001b[0m                 \u001b[0;34m\"raw_input was called, but this frontend does not support input requests.\"\u001b[0m\u001b[0;34m\u001b[0m\u001b[0;34m\u001b[0m\u001b[0m\n\u001b[1;32m    850\u001b[0m             )\n\u001b[0;32m--> 851\u001b[0;31m         return self._input_request(str(prompt),\n\u001b[0m\u001b[1;32m    852\u001b[0m             \u001b[0mself\u001b[0m\u001b[0;34m.\u001b[0m\u001b[0m_parent_ident\u001b[0m\u001b[0;34m,\u001b[0m\u001b[0;34m\u001b[0m\u001b[0;34m\u001b[0m\u001b[0m\n\u001b[1;32m    853\u001b[0m             \u001b[0mself\u001b[0m\u001b[0;34m.\u001b[0m\u001b[0m_parent_header\u001b[0m\u001b[0;34m,\u001b[0m\u001b[0;34m\u001b[0m\u001b[0;34m\u001b[0m\u001b[0m\n",
            "\u001b[0;32m/usr/local/lib/python3.10/dist-packages/ipykernel/kernelbase.py\u001b[0m in \u001b[0;36m_input_request\u001b[0;34m(self, prompt, ident, parent, password)\u001b[0m\n\u001b[1;32m    893\u001b[0m             \u001b[0;32mexcept\u001b[0m \u001b[0mKeyboardInterrupt\u001b[0m\u001b[0;34m:\u001b[0m\u001b[0;34m\u001b[0m\u001b[0;34m\u001b[0m\u001b[0m\n\u001b[1;32m    894\u001b[0m                 \u001b[0;31m# re-raise KeyboardInterrupt, to truncate traceback\u001b[0m\u001b[0;34m\u001b[0m\u001b[0;34m\u001b[0m\u001b[0m\n\u001b[0;32m--> 895\u001b[0;31m                 \u001b[0;32mraise\u001b[0m \u001b[0mKeyboardInterrupt\u001b[0m\u001b[0;34m(\u001b[0m\u001b[0;34m\"Interrupted by user\"\u001b[0m\u001b[0;34m)\u001b[0m \u001b[0;32mfrom\u001b[0m \u001b[0;32mNone\u001b[0m\u001b[0;34m\u001b[0m\u001b[0;34m\u001b[0m\u001b[0m\n\u001b[0m\u001b[1;32m    896\u001b[0m             \u001b[0;32mexcept\u001b[0m \u001b[0mException\u001b[0m \u001b[0;32mas\u001b[0m \u001b[0me\u001b[0m\u001b[0;34m:\u001b[0m\u001b[0;34m\u001b[0m\u001b[0;34m\u001b[0m\u001b[0m\n\u001b[1;32m    897\u001b[0m                 \u001b[0mself\u001b[0m\u001b[0;34m.\u001b[0m\u001b[0mlog\u001b[0m\u001b[0;34m.\u001b[0m\u001b[0mwarning\u001b[0m\u001b[0;34m(\u001b[0m\u001b[0;34m\"Invalid Message:\"\u001b[0m\u001b[0;34m,\u001b[0m \u001b[0mexc_info\u001b[0m\u001b[0;34m=\u001b[0m\u001b[0;32mTrue\u001b[0m\u001b[0;34m)\u001b[0m\u001b[0;34m\u001b[0m\u001b[0;34m\u001b[0m\u001b[0m\n",
            "\u001b[0;31mKeyboardInterrupt\u001b[0m: Interrupted by user"
          ]
        }
      ]
    }
  ]
}